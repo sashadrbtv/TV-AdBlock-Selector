{
 "cells": [
  {
   "cell_type": "markdown",
   "metadata": {},
   "source": [
    "### Задача\n",
    "\n",
    "Реализовать на Python алгоритм, выбирающий рекламные блоки для размещения рекламных роликов Clip1 и Clip2 с учётом свободного места в рекламных блоках и максимизирующий сумму целевых рейтингов (поле TargetRate) выбранных блоков с учётом следующих ограничений:\n",
    "\n",
    "    1. Ролик Clip1 должен быть размещён на 100 рейтингов (сумма по колонке BlockRate), причём 58-60% размещения (58-60 рейтингов) должно быть размещено в прайм-тайм (IsPrime = 1). Допустимое отклонение размещения по рейтингам ±2%.\n",
    "\n",
    "    2. Ролик Clip2 должен быть размещён на 60 рейтингов (сумма по колонке BlockRate), причём 48-50% размещения (28.8-30 рейтингов) должно быть размещено в прайм-тайм (IsPrime = 1). Допустимое отклонение размещения по рейтингам ±2%.\n",
    "\n",
    "    3. Общая сумма размещения по двум роликам должна быть равна 750 рублям. Допустимое отклонение бюджета в меньшую сторону – 5 рублей. В большую сторону отклонение недопустимо.\n",
    "\n",
    "    4. Ролики должны быть максимально равномерно распределены по всему месяцу размещения.\n"
   ]
  },
  {
   "cell_type": "markdown",
   "metadata": {},
   "source": [
    "### 0. Загружаем необходимые библиотеки"
   ]
  },
  {
   "cell_type": "code",
   "execution_count": 2,
   "metadata": {
    "collapsed": true
   },
   "outputs": [],
   "source": [
    "import numpy as np\n",
    "import pandas as pd\n",
    "\n",
    "import datetime as dt\n",
    "\n",
    "%matplotlib inline\n",
    "import matplotlib.pyplot as plt\n",
    "\n",
    "#normality distribution test\n",
    "from scipy.stats import skewtest, skew, kurtosis\n",
    "\n",
    "#set path to data\n",
    "PATH = \"...\"\n",
    "import os\n",
    "os.chdir(PATH)"
   ]
  },
  {
   "cell_type": "code",
   "execution_count": null,
   "metadata": {
    "collapsed": true
   },
   "outputs": [],
   "source": []
  },
  {
   "cell_type": "markdown",
   "metadata": {},
   "source": [
    "### 1. Алгоритм А\n",
    "\n",
    "Оптимизация происходит последовательно по каждому дню месяца начиная с первого дня. Остаток рейтингов переносится на следующий день. Данный подход был разработан с целью сохранения нормального распределения рейтингов внутри месяца, однако, как показал дальнейший анализ, а именно второй подход (алгоритм В - распределение сразу по всему месяцу), необходимости использования такого \"аккуратного\" подхода в данном сценарии нет.\n",
    "\n",
    "Краткое описание принципа\n",
    "\n",
    "    о определяем исходный вес дня ClipDayWeight (сколько рейтингов в день необходимо использовать)\n",
    "    о создаем словрь BlockInxToUse вида день (ключ), индексы BlockId (значения) - результат функции\n",
    "    о цикл для каждого дня - слабое место, если, к примеру, месяцев будет несколько (на данном этапе стоит задача оптимизации внутри 1 месяца)\n",
    "    о добавляем остаток от предыдущего дня DayResid (может быть положительный и отрицательный)\n",
    "    о проверка на отрицательность - если отрицательное значение, то добавлем дневной вес и переходим к следующему дню\n",
    "    о основной расчет: создаем вектор BlockRateSorted, который содержит отсортированные по Affinity (TargetRate/BlockRate) рейтинги BlockRate, находим минимальное значение разницы по модулю накопленных значений вектора BlockRateSorted и ClipDayWeightAdj\n",
    "    о сохраняем остаток рейтингов в DayResid\n",
    "    o запоминаем позицию минимум и записываем ее в IndexMinDevPos\n",
    "    o добавляем в словарь индексы BlockId, которые будем использовать\n",
    "    o удаляем забукированное время под наш клип из исходного файла\n",
    "    o возвращаем словарь с результатами"
   ]
  },
  {
   "cell_type": "code",
   "execution_count": 3,
   "metadata": {
    "collapsed": true
   },
   "outputs": [],
   "source": [
    "def AdBlockSelector(Data, GRP, PrimeShare, IsPrime, ClipLen):\n",
    "\n",
    "    \"\"\"\n",
    "    Description: select optimal TV Ad Blocks\n",
    "    \n",
    "    Parameters:\n",
    "        o Data - initial dataframe\n",
    "        o GRP - total GRP amount for selected Clip [integer]\n",
    "        o PrimeShare - share of Prime [float]\n",
    "        o IsPrime - True or False. True if we optimize Prime [boolean]\n",
    "        o ClipLen - duration of Clip\n",
    "        \n",
    "    Output: dictionary where keys are days of the month and values are BlockID indexes from initial dataframe \n",
    "    \"\"\"\n",
    "    \n",
    "    \n",
    "    if IsPrime:\n",
    "        ClipDayWeight = GRP * (PrimeShare) / Data['Day'].max()   #weak\n",
    "    else:\n",
    "        ClipDayWeight = GRP * (1-PrimeShare) / Data['Day'].max()   #weak\n",
    "\n",
    "    BlockIdxToUse = {}\n",
    "    DayResid = 0\n",
    "\n",
    "    for day in Data['Day'].unique():     #weak\n",
    "    \n",
    "        ClipDayWeightAdj = ClipDayWeight - DayResid\n",
    "    \n",
    "    \n",
    "        if ClipDayWeightAdj <= 0:\n",
    "            DayResid = DayResid - ClipDayWeight\n",
    "        \n",
    "    \n",
    "\n",
    "    \n",
    "        else:\n",
    "            BlockRateSorted = Data[(Data['IsPrime'] == IsPrime) & \n",
    "                                   (Data['Day'] == day) & \n",
    "                                   (Data['AvailableSeconds'] >= ClipLen)].sort_values(\n",
    "            ['Day', 'Affinity'], ascending=False)['BlockRate']\n",
    "    \n",
    "            IndexMinDev = np.argmin( np.abs( BlockRateSorted.cumsum() - ClipDayWeightAdj ) )\n",
    "            DayResid = ( BlockRateSorted.cumsum() - ClipDayWeightAdj )[IndexMinDev]\n",
    "            IndexMinDevPos = list(BlockRateSorted.index).index(IndexMinDev)\n",
    "    \n",
    "            BlockIdxToUse[day] = list(BlockRateSorted.index)[:IndexMinDevPos + 1]\n",
    "\n",
    "            Data.loc[list(BlockIdxToUse[day]), 'AvailableSeconds'] = (Data.loc[list(BlockIdxToUse[day]), 'AvailableSeconds'] \n",
    "                                                                  - ClipLen).values\n",
    "    \n",
    "    return BlockIdxToUse"
   ]
  },
  {
   "cell_type": "code",
   "execution_count": null,
   "metadata": {
    "collapsed": true
   },
   "outputs": [],
   "source": []
  },
  {
   "cell_type": "markdown",
   "metadata": {},
   "source": [
    "### 1.1. Задаем исходные параметры, загружаем датасет"
   ]
  },
  {
   "cell_type": "code",
   "execution_count": 4,
   "metadata": {
    "collapsed": true
   },
   "outputs": [],
   "source": [
    "#Clip duration\n",
    "Clip1Len = 30\n",
    "Clip2Len = 30\n",
    "\n",
    "#GRP value\n",
    "Clip1GRP = 100\n",
    "Clip2GRP = 60\n",
    "\n",
    "#share of Prime\n",
    "Clip1PrimeShare = 0.59\n",
    "Clip2PrimeShare = 0.49\n",
    "\n",
    "#price of 1 BlockRate\n",
    "PrimeCPP = 6\n",
    "NonPrimeCPP = 3\n",
    "\n",
    "#download the file\n",
    "FILE = 'TvBreaksData_toSend.xlsx'\n",
    "data = pd.read_excel(PATH + '\\\\' + FILE)\n",
    "\n",
    "#a few steps of preprocessing\n",
    "data['BlockDateTimeShifted'] = ( data['BlockDateTime'] - dt.timedelta(hours=6) )\n",
    "data['Day'] = data['BlockDateTimeShifted'].dt.day\n",
    "data['Affinity'] = (data['TargetRate'] / data['BlockRate'])"
   ]
  },
  {
   "cell_type": "code",
   "execution_count": null,
   "metadata": {
    "collapsed": true
   },
   "outputs": [],
   "source": []
  },
  {
   "cell_type": "markdown",
   "metadata": {},
   "source": [
    "### 1.2. Запускаем функцию, получаем результаты"
   ]
  },
  {
   "cell_type": "code",
   "execution_count": 5,
   "metadata": {
    "collapsed": true
   },
   "outputs": [],
   "source": [
    "#collect blockid numbers by days of month for specific clip with prime option (off/on)\n",
    "Clip1PrimeDic = AdBlockSelector(Data=data, GRP=Clip1GRP, PrimeShare=Clip1PrimeShare, IsPrime=True, ClipLen=Clip1Len)\n",
    "Clip1NonPrimeDic = AdBlockSelector(Data=data, GRP=Clip1GRP, PrimeShare=Clip1PrimeShare, IsPrime=False, ClipLen=Clip1Len)\n",
    "Clip2PrimeDic = AdBlockSelector(Data=data, GRP=Clip2GRP, PrimeShare=Clip2PrimeShare, IsPrime=True, ClipLen=Clip1Len)\n",
    "Clip2NonPrimeDic = AdBlockSelector(Data=data, GRP=Clip2GRP, PrimeShare=Clip2PrimeShare, IsPrime=False, ClipLen=Clip1Len)"
   ]
  },
  {
   "cell_type": "code",
   "execution_count": 6,
   "metadata": {
    "collapsed": true
   },
   "outputs": [],
   "source": [
    "Clip1PrimeId = [item for sublist in pd.Series(Clip1PrimeDic).values for item in sublist]\n",
    "Clip1NonPrimeId = [item for sublist in pd.Series(Clip1NonPrimeDic).values for item in sublist]\n",
    "Clip2PrimeId = [item for sublist in pd.Series(Clip2PrimeDic).values for item in sublist]\n",
    "Clip2NonPrimeId = [item for sublist in pd.Series(Clip2NonPrimeDic).values for item in sublist]"
   ]
  },
  {
   "cell_type": "code",
   "execution_count": 7,
   "metadata": {
    "collapsed": false
   },
   "outputs": [
    {
     "name": "stdout",
     "output_type": "stream",
     "text": [
      "Spend RUR:  745.1999999999999\n"
     ]
    }
   ],
   "source": [
    "#CPP is a constant \n",
    "print(\"Spend RUR: \",\n",
    "( (PrimeCPP * Clip1GRP * Clip1PrimeShare) + (NonPrimeCPP * Clip1GRP * (1-Clip1PrimeShare)) +\n",
    " (PrimeCPP * Clip2GRP * Clip2PrimeShare) + (NonPrimeCPP * Clip2GRP * (1-Clip2PrimeShare)) ) )"
   ]
  },
  {
   "cell_type": "code",
   "execution_count": 8,
   "metadata": {
    "collapsed": false
   },
   "outputs": [
    {
     "name": "stdout",
     "output_type": "stream",
     "text": [
      "Num of Spots 753\n"
     ]
    }
   ],
   "source": [
    "print(\"Num of Spots\",\n",
    "( len( Clip1PrimeId ) * PrimeCPP +\n",
    " len( Clip1NonPrimeId ) * NonPrimeCPP +\n",
    " len( Clip2PrimeId ) * PrimeCPP +\n",
    " len( Clip2NonPrimeId ) * NonPrimeCPP ) )"
   ]
  },
  {
   "cell_type": "code",
   "execution_count": 9,
   "metadata": {
    "collapsed": false
   },
   "outputs": [
    {
     "name": "stdout",
     "output_type": "stream",
     "text": [
      "Clip1 Prime BlockRate:  59.22699999999999 Clip1 Prime TargetRate:  105.77531032878082\n",
      "Clip1 NonPrime BlockRate:  41.10999999999999 Clip1 NonPrime TargetRate:  74.18303147140894\n",
      "Clip2 Prime BlockRate:  29.528000000000002 Clip1 Prime TargetRate:  51.971791977179535\n",
      "Clip2 NonPrime BlockRate:  30.615000000000006 Clip1 NonPrime TargetRate:  55.40617380313193\n"
     ]
    }
   ],
   "source": [
    "print(\"Clip1 Prime BlockRate: \", \n",
    "      data.loc[ Clip1PrimeId ]['BlockRate'].sum(),\n",
    "      \"Clip1 Prime TargetRate: \", \n",
    "      data.loc[ Clip1PrimeId ]['TargetRate'].sum())\n",
    "\n",
    "print(\"Clip1 NonPrime BlockRate: \", \n",
    "      data.loc[ Clip1NonPrimeId ]['BlockRate'].sum(),\n",
    "      \"Clip1 NonPrime TargetRate: \", \n",
    "      data.loc[ Clip1NonPrimeId ]['TargetRate'].sum())\n",
    "\n",
    "print(\"Clip2 Prime BlockRate: \", \n",
    "      data.loc[ Clip2PrimeId ]['BlockRate'].sum(),\n",
    "      \"Clip1 Prime TargetRate: \", \n",
    "      data.loc[ Clip2PrimeId ]['TargetRate'].sum())\n",
    "\n",
    "print(\"Clip2 NonPrime BlockRate: \", \n",
    "      data.loc[ Clip2NonPrimeId ]['BlockRate'].sum(),\n",
    "      \"Clip1 NonPrime TargetRate: \", \n",
    "      data.loc[ Clip2NonPrimeId ]['TargetRate'].sum())"
   ]
  },
  {
   "cell_type": "code",
   "execution_count": 10,
   "metadata": {
    "collapsed": false
   },
   "outputs": [
    {
     "name": "stdout",
     "output_type": "stream",
     "text": [
      "GRP to buy:  160.48    Plan: 160\n"
     ]
    }
   ],
   "source": [
    "print(\"GRP to buy: \", \n",
    "      data.loc[ Clip1PrimeId ]['BlockRate'].sum()  +\n",
    "      data.loc[ Clip1NonPrimeId ]['BlockRate'].sum()  +\n",
    "      data.loc[ Clip2PrimeId ]['BlockRate'].sum()  +\n",
    "      data.loc[ Clip2NonPrimeId ]['BlockRate'].sum(),\n",
    "     \"   Plan: 160\")"
   ]
  },
  {
   "cell_type": "code",
   "execution_count": 11,
   "metadata": {
    "collapsed": false
   },
   "outputs": [
    {
     "name": "stdout",
     "output_type": "stream",
     "text": [
      "Target Rate:  287.3363075805012\n"
     ]
    }
   ],
   "source": [
    "print(\"Target Rate: \", \n",
    "      data.loc[ Clip1PrimeId ]['TargetRate'].sum()  +\n",
    "      data.loc[ Clip1NonPrimeId ]['TargetRate'].sum()  +\n",
    "      data.loc[ Clip2PrimeId ]['TargetRate'].sum()  +\n",
    "      data.loc[ Clip2NonPrimeId ]['TargetRate'].sum())"
   ]
  },
  {
   "cell_type": "code",
   "execution_count": 12,
   "metadata": {
    "collapsed": false
   },
   "outputs": [
    {
     "name": "stdout",
     "output_type": "stream",
     "text": [
      "Actual Spend RUR:  747.7049999999999    Plan: 750\n"
     ]
    }
   ],
   "source": [
    "print(\"Actual Spend RUR: \", \n",
    "      data.loc[ Clip1PrimeId ]['BlockRate'].sum() * PrimeCPP +\n",
    "      data.loc[ Clip1NonPrimeId ]['BlockRate'].sum() * NonPrimeCPP +\n",
    "      data.loc[ Clip2PrimeId ]['BlockRate'].sum() * PrimeCPP +\n",
    "      data.loc[ Clip2NonPrimeId ]['BlockRate'].sum() * NonPrimeCPP,\n",
    "     \"   Plan: 750\")"
   ]
  },
  {
   "cell_type": "code",
   "execution_count": null,
   "metadata": {
    "collapsed": true
   },
   "outputs": [],
   "source": []
  },
  {
   "cell_type": "markdown",
   "metadata": {},
   "source": [
    "### 1.3. Небольшая проверка на нормальность распределения\n",
    "\n",
    "К этой части можно относиться нестрого. Здесь происходит проверка результатов на адекватность посредством визуализации и тестированием на смещение (skewtest p-value)."
   ]
  },
  {
   "cell_type": "code",
   "execution_count": 13,
   "metadata": {
    "collapsed": false
   },
   "outputs": [
    {
     "data": {
      "image/png": "[encoded data removed]",
      "text/plain": [
       "<matplotlib.figure.Figure at 0x24037b21ba8>"
      ]
     },
     "metadata": {},
     "output_type": "display_data"
    }
   ],
   "source": [
    "data.loc[ Clip1PrimeId + Clip1NonPrimeId ].groupby('Day')['BlockRate'].sum().plot();"
   ]
  },
  {
   "cell_type": "code",
   "execution_count": 14,
   "metadata": {
    "collapsed": false
   },
   "outputs": [
    {
     "data": {
      "image/png": "[encoded data removed]",
      "text/plain": [
       "<matplotlib.figure.Figure at 0x24033e442e8>"
      ]
     },
     "metadata": {},
     "output_type": "display_data"
    }
   ],
   "source": [
    "data.loc[ Clip1PrimeId + Clip1NonPrimeId ].groupby('Day')['BlockRate'].sum().hist();"
   ]
  },
  {
   "cell_type": "code",
   "execution_count": 15,
   "metadata": {
    "collapsed": false
   },
   "outputs": [
    {
     "name": "stdout",
     "output_type": "stream",
     "text": [
      "Skewtest:  SkewtestResult(statistic=-0.9285575426049665, pvalue=0.35311843371651475)\n",
      "Skew:  -0.3605654074995679\n",
      "Kurtosis:  -0.9609535747722586\n"
     ]
    }
   ],
   "source": [
    "print(\"Skewtest: \", skewtest(data.loc[ Clip1PrimeId + Clip1NonPrimeId ].groupby('Day')['BlockRate'].sum()))\n",
    "print(\"Skew: \", skew(data.loc[ Clip1PrimeId + Clip1NonPrimeId ].groupby('Day')['BlockRate'].sum()))\n",
    "print(\"Kurtosis: \", kurtosis(data.loc[ Clip1PrimeId + Clip1NonPrimeId ].groupby('Day')['BlockRate'].sum(), fisher=True))"
   ]
  },
  {
   "cell_type": "code",
   "execution_count": null,
   "metadata": {
    "collapsed": true
   },
   "outputs": [],
   "source": []
  },
  {
   "cell_type": "code",
   "execution_count": 16,
   "metadata": {
    "collapsed": false
   },
   "outputs": [
    {
     "data": {
      "image/png": "[encoded data removed]",
      "text/plain": [
       "<matplotlib.figure.Figure at 0x24038e9ab70>"
      ]
     },
     "metadata": {},
     "output_type": "display_data"
    }
   ],
   "source": [
    "data.loc[ Clip2PrimeId + Clip2NonPrimeId ].groupby('Day')['BlockRate'].sum().plot();"
   ]
  },
  {
   "cell_type": "code",
   "execution_count": 17,
   "metadata": {
    "collapsed": false
   },
   "outputs": [
    {
     "data": {
      "image/png": "[encoded data removed]",
      "text/plain": [
       "<matplotlib.figure.Figure at 0x24038f3c6a0>"
      ]
     },
     "metadata": {},
     "output_type": "display_data"
    }
   ],
   "source": [
    "data.loc[ Clip2PrimeId + Clip2NonPrimeId ].groupby('Day')['BlockRate'].sum().hist();"
   ]
  },
  {
   "cell_type": "code",
   "execution_count": 18,
   "metadata": {
    "collapsed": false
   },
   "outputs": [
    {
     "name": "stdout",
     "output_type": "stream",
     "text": [
      "Skewtest:  SkewtestResult(statistic=1.9475566675126597, pvalue=0.05146803297550784)\n",
      "Skew:  0.810742265436533\n",
      "Kurtosis:  -0.5663059847513665\n"
     ]
    }
   ],
   "source": [
    "print(\"Skewtest: \", skewtest(data.loc[ Clip2PrimeId + Clip2NonPrimeId ].groupby('Day')['BlockRate'].sum()))\n",
    "print(\"Skew: \", skew(data.loc[ Clip2PrimeId + Clip2NonPrimeId ].groupby('Day')['BlockRate'].sum()))\n",
    "print(\"Kurtosis: \", kurtosis(data.loc[ Clip2PrimeId + Clip2NonPrimeId ].groupby('Day')['BlockRate'].sum(), fisher=True))"
   ]
  },
  {
   "cell_type": "code",
   "execution_count": null,
   "metadata": {
    "collapsed": true
   },
   "outputs": [],
   "source": []
  },
  {
   "cell_type": "markdown",
   "metadata": {},
   "source": [
    "### 2. Алгоритм В\n",
    "\n",
    "Этот алгоритм идентичен предыдущему заисключением отсутсвия оптимизации по дням. В данном случае оптимизация происходит сразу по всему месяцу. Сильного смещения рейтингов в какие-то определенные периоды не происходит, наоборот, алгоритм выбирает самые оптимальные выходы на ТВ, которые натуральным образом распределены по всему месяцу."
   ]
  },
  {
   "cell_type": "code",
   "execution_count": 19,
   "metadata": {
    "collapsed": true
   },
   "outputs": [],
   "source": [
    "def AdBlockSelector(Data, GRP, PrimeShare, IsPrime, ClipLen):\n",
    "\n",
    "    \"\"\"\n",
    "    Description: select optimal \n",
    "    \n",
    "    Parameters:\n",
    "    \"\"\"\n",
    "    \n",
    "    \n",
    "    if IsPrime:\n",
    "        ClipDayWeight = GRP * (PrimeShare)   #weak\n",
    "    else:\n",
    "        ClipDayWeight = GRP * (1-PrimeShare)   #weak\n",
    "\n",
    "    BlockIdxToUse = []\n",
    "    DayResid = 0\n",
    "\n",
    "    \n",
    "    \n",
    "    ClipDayWeightAdj = ClipDayWeight - DayResid\n",
    "    \n",
    "    \n",
    "    if ClipDayWeightAdj <= 0:\n",
    "        DayResid = DayResid - ClipDayWeight\n",
    "        \n",
    "    \n",
    "\n",
    "    \n",
    "    else:\n",
    "        BlockRateSorted = Data[(Data['IsPrime'] == IsPrime) & \n",
    "                                   (Data['AvailableSeconds'] >= ClipLen)].sort_values(\n",
    "            ['Affinity'], ascending=False)['BlockRate']\n",
    "    \n",
    "        IndexMinDev = np.argmin( np.abs( BlockRateSorted.cumsum() - ClipDayWeightAdj ) )            \n",
    "        DayResid = ( BlockRateSorted.cumsum() - ClipDayWeightAdj )[IndexMinDev]\n",
    "        IndexMinDevPos = list(BlockRateSorted.index).index(IndexMinDev)\n",
    "    \n",
    "        BlockIdxToUse = list(BlockRateSorted.index)[:IndexMinDevPos + 1]\n",
    "\n",
    "        Data.loc[BlockIdxToUse, 'AvailableSeconds'] = (Data.loc[BlockIdxToUse, 'AvailableSeconds'] \n",
    "                                                                  - ClipLen).values #clip#len\n",
    "    \n",
    "    return BlockIdxToUse"
   ]
  },
  {
   "cell_type": "code",
   "execution_count": null,
   "metadata": {
    "collapsed": true
   },
   "outputs": [],
   "source": []
  },
  {
   "cell_type": "markdown",
   "metadata": {},
   "source": [
    "### 1.1. Задаем исходные параметры, загружаем датасет"
   ]
  },
  {
   "cell_type": "code",
   "execution_count": 20,
   "metadata": {
    "collapsed": true
   },
   "outputs": [],
   "source": [
    "Clip1Len = 30\n",
    "Clip2Len = 30\n",
    "\n",
    "Clip1GRP = 100\n",
    "Clip2GRP = 60\n",
    "\n",
    "Clip1PrimeShare = 0.59\n",
    "Clip2PrimeShare = 0.49\n",
    "\n",
    "PrimeCPP = 6\n",
    "NonPrimeCPP = 3\n",
    "\n",
    "#download the file\n",
    "FILE = 'TvBreaksData_toSend.xlsx'\n",
    "data = pd.read_excel(PATH + '\\\\' + FILE)\n",
    "\n",
    "data['BlockDateTimeShifted'] = ( data['BlockDateTime'] - dt.timedelta(hours=6) )\n",
    "data['Day'] = data['BlockDateTimeShifted'].dt.day\n",
    "data['Affinity'] = (data['TargetRate'] / data['BlockRate'])"
   ]
  },
  {
   "cell_type": "code",
   "execution_count": null,
   "metadata": {
    "collapsed": true
   },
   "outputs": [],
   "source": []
  },
  {
   "cell_type": "markdown",
   "metadata": {},
   "source": [
    "### 1.2. Запускаем функцию, получаем результаты"
   ]
  },
  {
   "cell_type": "code",
   "execution_count": 21,
   "metadata": {
    "collapsed": true
   },
   "outputs": [],
   "source": [
    "#collect blockid numbers by days of month for specific clip with prime option (off/on)\n",
    "Clip1PrimeId = AdBlockSelector(Data=data, GRP=Clip1GRP, PrimeShare=Clip1PrimeShare, IsPrime=True, ClipLen=Clip1Len)\n",
    "Clip1NonPrimeId = AdBlockSelector(Data=data, GRP=Clip1GRP, PrimeShare=Clip1PrimeShare, IsPrime=False, ClipLen=Clip1Len)\n",
    "Clip2PrimeId = AdBlockSelector(Data=data, GRP=Clip2GRP, PrimeShare=Clip2PrimeShare, IsPrime=True, ClipLen=Clip1Len)\n",
    "Clip2NonPrimeId = AdBlockSelector(Data=data, GRP=Clip2GRP, PrimeShare=Clip2PrimeShare, IsPrime=False, ClipLen=Clip1Len)"
   ]
  },
  {
   "cell_type": "code",
   "execution_count": 22,
   "metadata": {
    "collapsed": false
   },
   "outputs": [
    {
     "name": "stdout",
     "output_type": "stream",
     "text": [
      "Spend RUR:  745.1999999999999\n"
     ]
    }
   ],
   "source": [
    "#CPP is a constant \n",
    "print(\"Spend RUR: \",\n",
    "( (PrimeCPP * Clip1GRP * Clip1PrimeShare) + (NonPrimeCPP * Clip1GRP * (1-Clip1PrimeShare)) +\n",
    " (PrimeCPP * Clip2GRP * Clip2PrimeShare) + (NonPrimeCPP * Clip2GRP * (1-Clip2PrimeShare)) ) )"
   ]
  },
  {
   "cell_type": "code",
   "execution_count": 23,
   "metadata": {
    "collapsed": false
   },
   "outputs": [
    {
     "name": "stdout",
     "output_type": "stream",
     "text": [
      "Num of Spots 813\n"
     ]
    }
   ],
   "source": [
    "print(\"Num of Spots\",\n",
    "( len( Clip1PrimeId ) * PrimeCPP +\n",
    " len( Clip1NonPrimeId ) * NonPrimeCPP +\n",
    " len( Clip2PrimeId ) * PrimeCPP +\n",
    " len( Clip2NonPrimeId ) * NonPrimeCPP ) )"
   ]
  },
  {
   "cell_type": "code",
   "execution_count": 24,
   "metadata": {
    "collapsed": false
   },
   "outputs": [
    {
     "name": "stdout",
     "output_type": "stream",
     "text": [
      "Clip1 Prime BlockRate:  58.672000000000004 Clip1 Prime TargetRate:  112.91083587076645\n",
      "Clip1 NonPrime BlockRate:  40.794000000000004 Clip1 NonPrime TargetRate:  78.2418899161879\n",
      "Clip2 Prime BlockRate:  29.706999999999997 Clip1 Prime TargetRate:  59.43558902195562\n",
      "Clip2 NonPrime BlockRate:  30.730999999999998 Clip1 NonPrime TargetRate:  60.565301015435146\n"
     ]
    }
   ],
   "source": [
    "print(\"Clip1 Prime BlockRate: \", \n",
    "      data.loc[ Clip1PrimeId ]['BlockRate'].sum(),\n",
    "      \"Clip1 Prime TargetRate: \", \n",
    "      data.loc[ Clip1PrimeId ]['TargetRate'].sum())\n",
    "\n",
    "print(\"Clip1 NonPrime BlockRate: \", \n",
    "      data.loc[ Clip1NonPrimeId ]['BlockRate'].sum(),\n",
    "      \"Clip1 NonPrime TargetRate: \", \n",
    "      data.loc[ Clip1NonPrimeId ]['TargetRate'].sum())\n",
    "\n",
    "print(\"Clip2 Prime BlockRate: \", \n",
    "      data.loc[ Clip2PrimeId ]['BlockRate'].sum(),\n",
    "      \"Clip1 Prime TargetRate: \", \n",
    "      data.loc[ Clip2PrimeId ]['TargetRate'].sum())\n",
    "\n",
    "print(\"Clip2 NonPrime BlockRate: \", \n",
    "      data.loc[ Clip2NonPrimeId ]['BlockRate'].sum(),\n",
    "      \"Clip1 NonPrime TargetRate: \", \n",
    "      data.loc[ Clip2NonPrimeId ]['TargetRate'].sum())"
   ]
  },
  {
   "cell_type": "code",
   "execution_count": 25,
   "metadata": {
    "collapsed": false
   },
   "outputs": [
    {
     "name": "stdout",
     "output_type": "stream",
     "text": [
      "GRP to buy:  159.904    Plan: 160\n"
     ]
    }
   ],
   "source": [
    "print(\"GRP to buy: \", \n",
    "      data.loc[ Clip1PrimeId ]['BlockRate'].sum()  +\n",
    "      data.loc[ Clip1NonPrimeId ]['BlockRate'].sum()  +\n",
    "      data.loc[ Clip2PrimeId ]['BlockRate'].sum()  +\n",
    "      data.loc[ Clip2NonPrimeId ]['BlockRate'].sum(),\n",
    "     \"   Plan: 160\")"
   ]
  },
  {
   "cell_type": "code",
   "execution_count": 26,
   "metadata": {
    "collapsed": false
   },
   "outputs": [
    {
     "name": "stdout",
     "output_type": "stream",
     "text": [
      "Target Rate:  311.15361582434514\n"
     ]
    }
   ],
   "source": [
    "print(\"Target Rate: \", \n",
    "      data.loc[ Clip1PrimeId ]['TargetRate'].sum()  +\n",
    "      data.loc[ Clip1NonPrimeId ]['TargetRate'].sum()  +\n",
    "      data.loc[ Clip2PrimeId ]['TargetRate'].sum()  +\n",
    "      data.loc[ Clip2NonPrimeId ]['TargetRate'].sum())"
   ]
  },
  {
   "cell_type": "code",
   "execution_count": 27,
   "metadata": {
    "collapsed": false
   },
   "outputs": [
    {
     "name": "stdout",
     "output_type": "stream",
     "text": [
      "Actual Spend RUR:  744.849    Plan: 750\n"
     ]
    }
   ],
   "source": [
    "print(\"Actual Spend RUR: \", \n",
    "      data.loc[ Clip1PrimeId ]['BlockRate'].sum() * PrimeCPP +\n",
    "      data.loc[ Clip1NonPrimeId ]['BlockRate'].sum() * NonPrimeCPP +\n",
    "      data.loc[ Clip2PrimeId ]['BlockRate'].sum() * PrimeCPP +\n",
    "      data.loc[ Clip2NonPrimeId ]['BlockRate'].sum() * NonPrimeCPP,\n",
    "     \"   Plan: 750\")"
   ]
  },
  {
   "cell_type": "code",
   "execution_count": null,
   "metadata": {
    "collapsed": true
   },
   "outputs": [],
   "source": []
  },
  {
   "cell_type": "markdown",
   "metadata": {},
   "source": [
    "### 1.3. Небольшая проверка на нормальность распределения"
   ]
  },
  {
   "cell_type": "code",
   "execution_count": 28,
   "metadata": {
    "collapsed": false
   },
   "outputs": [
    {
     "data": {
      "image/png": "[encoded data removed]",
      "text/plain": [
       "<matplotlib.figure.Figure at 0x24038f87b00>"
      ]
     },
     "metadata": {},
     "output_type": "display_data"
    }
   ],
   "source": [
    "data.loc[ Clip1PrimeId + Clip1NonPrimeId ].groupby('Day')['BlockRate'].sum().plot();"
   ]
  },
  {
   "cell_type": "code",
   "execution_count": 29,
   "metadata": {
    "collapsed": false
   },
   "outputs": [
    {
     "data": {
      "image/png": "[encoded data removed]",
      "text/plain": [
       "<matplotlib.figure.Figure at 0x24038f90630>"
      ]
     },
     "metadata": {},
     "output_type": "display_data"
    }
   ],
   "source": [
    "data.loc[ Clip1PrimeId + Clip1NonPrimeId ].groupby('Day')['BlockRate'].sum().hist();"
   ]
  },
  {
   "cell_type": "code",
   "execution_count": 30,
   "metadata": {
    "collapsed": false
   },
   "outputs": [
    {
     "name": "stdout",
     "output_type": "stream",
     "text": [
      "Skewtest:  SkewtestResult(statistic=2.409124309773092, pvalue=0.015990850269967372)\n",
      "Skew:  1.1226415272058399\n",
      "Kurtosis:  0.6923522725379168\n"
     ]
    }
   ],
   "source": [
    "print(\"Skewtest: \", skewtest(data.loc[ Clip1PrimeId + Clip1NonPrimeId ].groupby('Day')['BlockRate'].sum()))\n",
    "print(\"Skew: \", skew(data.loc[ Clip1PrimeId + Clip1NonPrimeId ].groupby('Day')['BlockRate'].sum()))\n",
    "print(\"Kurtosis: \", kurtosis(data.loc[ Clip1PrimeId + Clip1NonPrimeId ].groupby('Day')['BlockRate'].sum(), fisher=True))"
   ]
  },
  {
   "cell_type": "code",
   "execution_count": null,
   "metadata": {
    "collapsed": true
   },
   "outputs": [],
   "source": []
  },
  {
   "cell_type": "code",
   "execution_count": 31,
   "metadata": {
    "collapsed": false
   },
   "outputs": [
    {
     "data": {
      "image/png": "[encoded data removed]",
      "text/plain": [
       "<matplotlib.figure.Figure at 0x24037e3dcc0>"
      ]
     },
     "metadata": {},
     "output_type": "display_data"
    }
   ],
   "source": [
    "data.loc[ Clip2PrimeId + Clip2NonPrimeId ].groupby('Day')['BlockRate'].sum().plot();"
   ]
  },
  {
   "cell_type": "code",
   "execution_count": 32,
   "metadata": {
    "collapsed": false
   },
   "outputs": [
    {
     "data": {
      "image/png": "[encoded data removed]",
      "text/plain": [
       "<matplotlib.figure.Figure at 0x24037c649b0>"
      ]
     },
     "metadata": {},
     "output_type": "display_data"
    }
   ],
   "source": [
    "data.loc[ Clip2PrimeId + Clip2NonPrimeId ].groupby('Day')['BlockRate'].sum().hist();"
   ]
  },
  {
   "cell_type": "code",
   "execution_count": 33,
   "metadata": {
    "collapsed": false
   },
   "outputs": [
    {
     "name": "stdout",
     "output_type": "stream",
     "text": [
      "Skewtest:  SkewtestResult(statistic=1.031364942386105, pvalue=0.3023697144408103)\n",
      "Skew:  0.46860991258914203\n",
      "Kurtosis:  -0.06894892760541227\n"
     ]
    }
   ],
   "source": [
    "print(\"Skewtest: \", skewtest(data.loc[ Clip2PrimeId + Clip2NonPrimeId ].groupby('Day')['BlockRate'].sum()))\n",
    "print(\"Skew: \", skew(data.loc[ Clip2PrimeId + Clip2NonPrimeId ].groupby('Day')['BlockRate'].sum()))\n",
    "print(\"Kurtosis: \", kurtosis(data.loc[ Clip2PrimeId + Clip2NonPrimeId ].groupby('Day')['BlockRate'].sum(), fisher=True))"
   ]
  },
  {
   "cell_type": "code",
   "execution_count": null,
   "metadata": {
    "collapsed": true
   },
   "outputs": [],
   "source": []
  },
  {
   "cell_type": "markdown",
   "metadata": {},
   "source": [
    "### 3. Результаты\n",
    "\n",
    "**Алгоритм В** показал отличные результаты, которые превосходят **алгоритм А (311 > 287 Target Rate)**, при этом распределение рейтингов внутри месяца имеет равномерный вид. Стратегия аккуратного распределения рейтингов внутри каждого дня с т.з. нормальности распределения и результата целевой функции не оправдывает себя. \n",
    "\n",
    "*P.S. стоит отметить, что общая сумма размещения при использовании алгоритма В будет на 5.151 рубль меньше (744.849) допустимого (750)* "
   ]
  },
  {
   "cell_type": "code",
   "execution_count": null,
   "metadata": {
    "collapsed": true
   },
   "outputs": [],
   "source": []
  }
 ],
 "metadata": {
  "kernelspec": {
   "display_name": "Python 3",
   "language": "python",
   "name": "python3"
  },
  "language_info": {
   "codemirror_mode": {
    "name": "ipython",
    "version": 3
   },
   "file_extension": ".py",
   "mimetype": "text/x-python",
   "name": "python",
   "nbconvert_exporter": "python",
   "pygments_lexer": "ipython3",
   "version": "3.6.2"
  }
 },
 "nbformat": 4,
 "nbformat_minor": 2
}
